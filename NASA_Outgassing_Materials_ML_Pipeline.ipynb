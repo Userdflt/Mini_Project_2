{
 "cells": [
  {
   "cell_type": "code",
   "execution_count": 3,
   "metadata": {},
   "outputs": [
    {
     "name": "stdout",
     "output_type": "stream",
     "text": [
      "Linear Regression Mean Squared Error: 0.4250415286116711\n",
      "Linear Regression R_squared: 0.9164540130088195\n",
      "Logistic Regression Accuracy: 0.8042328042328042\n",
      "Confusion Matrix:\n",
      "[[446  62   0]\n",
      " [ 44 364  92]\n",
      " [  0  98 406]]\n",
      "Classification Report:\n",
      "              precision    recall  f1-score   support\n",
      "\n",
      "           0       0.91      0.88      0.89       508\n",
      "           1       0.69      0.73      0.71       500\n",
      "           2       0.82      0.81      0.81       504\n",
      "\n",
      "    accuracy                           0.80      1512\n",
      "   macro avg       0.81      0.80      0.81      1512\n",
      "weighted avg       0.81      0.80      0.81      1512\n",
      "\n"
     ]
    }
   ],
   "source": [
    "import numpy as np\n",
    "import pandas as pd\n",
    "from sklearn.model_selection import train_test_split\n",
    "from sklearn.preprocessing import StandardScaler\n",
    "from sklearn.linear_model import LinearRegression, LogisticRegression\n",
    "from sklearn.pipeline import Pipeline\n",
    "from sklearn.metrics import mean_squared_error, r2_score, accuracy_score, confusion_matrix, classification_report\n",
    "\n",
    "# Reading the data\n",
    "data_path = r'C:\\Users\\GGPC\\IoD_Mini_Projects\\Mini_Project_2\\project_NASA_Materials_Project\\data\\result\\cleaned_Outgassing_Db_20240702.csv'\n",
    "material_df = pd.read_csv(data_path)\n",
    "\n",
    "# Feature Engineering\n",
    "def feature_engineering(df):\n",
    "    noise = np.random.normal(0, 0.65, size=df.shape[0])\n",
    "    scaler = StandardScaler()\n",
    "    df[['TML', 'CVCM', 'WVR']] = scaler.fit_transform(df[['TML', 'CVCM', 'WVR']])\n",
    "    df['performance_score'] = (1 - df['TML']) + (1 - df['CVCM']) + (1 - df['WVR']) + noise\n",
    "    return df\n",
    "\n",
    "material_df = feature_engineering(material_df)\n",
    "\n",
    "# Linear Regression Pipeline\n",
    "linear_regression_pipeline = Pipeline([\n",
    "    # ('scaler', StandardScaler()),\n",
    "    ('linear_regression', LinearRegression())\n",
    "])\n",
    "\n",
    "# Logistic Regression Pipeline\n",
    "logistic_regression_pipeline = Pipeline([\n",
    "    # ('scaler', StandardScaler()),\n",
    "    ('logistic_regression', LogisticRegression())\n",
    "])\n",
    "\n",
    "# Preparing data for Linear Regression\n",
    "X_lr = material_df[['TML', 'CVCM', 'WVR']]\n",
    "y_lr = material_df['performance_score']\n",
    "X_train_lr, X_test_lr, y_train_lr, y_test_lr = train_test_split(X_lr, y_lr, test_size=0.2, random_state=1)\n",
    "\n",
    "# Fitting the Linear Regression model\n",
    "linear_regression_pipeline.fit(X_train_lr, y_train_lr)\n",
    "y_pred_lr = linear_regression_pipeline.predict(X_test_lr)\n",
    "lr_mse = mean_squared_error(y_test_lr, y_pred_lr)\n",
    "lr_r2 = r2_score(y_test_lr, y_pred_lr)\n",
    "\n",
    "print(f'Linear Regression Mean Squared Error: {lr_mse}')\n",
    "print(f'Linear Regression R_squared: {lr_r2}')\n",
    "\n",
    "# Preparing data for Logistic Regression\n",
    "# Create performance categories using pd.qcut\n",
    "material_df['performance_category'] = pd.qcut(material_df['performance_score'], q=3, labels=['Low', 'Medium', 'High'])\n",
    "\n",
    "# Encoding the target variable\n",
    "y_logreg = material_df['performance_category'].astype('category').cat.codes\n",
    "\n",
    "X_train_logreg, X_test_logreg, y_train_logreg, y_test_logreg = train_test_split(X_lr, y_logreg, test_size=0.2, random_state=1)\n",
    "\n",
    "# Fitting the Logistic Regression model\n",
    "logistic_regression_pipeline.fit(X_train_logreg, y_train_logreg)\n",
    "y_pred_logreg = logistic_regression_pipeline.predict(X_test_logreg)\n",
    "logreg_accuracy = accuracy_score(y_test_logreg, y_pred_logreg)\n",
    "conf_matrix = confusion_matrix(y_test_logreg, y_pred_logreg)\n",
    "class_report = classification_report(y_test_logreg, y_pred_logreg)\n",
    "\n",
    "print(f'Logistic Regression Accuracy: {logreg_accuracy}')\n",
    "print(f'Confusion Matrix:\\n{conf_matrix}')\n",
    "print(f'Classification Report:\\n{class_report}')\n"
   ]
  },
  {
   "cell_type": "code",
   "execution_count": null,
   "metadata": {},
   "outputs": [],
   "source": []
  },
  {
   "cell_type": "code",
   "execution_count": null,
   "metadata": {},
   "outputs": [],
   "source": []
  },
  {
   "cell_type": "code",
   "execution_count": null,
   "metadata": {},
   "outputs": [],
   "source": []
  },
  {
   "cell_type": "code",
   "execution_count": null,
   "metadata": {},
   "outputs": [],
   "source": []
  },
  {
   "cell_type": "code",
   "execution_count": null,
   "metadata": {},
   "outputs": [],
   "source": []
  }
 ],
 "metadata": {
  "kernelspec": {
   "display_name": "Python 3",
   "language": "python",
   "name": "python3"
  },
  "language_info": {
   "codemirror_mode": {
    "name": "ipython",
    "version": 3
   },
   "file_extension": ".py",
   "mimetype": "text/x-python",
   "name": "python",
   "nbconvert_exporter": "python",
   "pygments_lexer": "ipython3",
   "version": "3.11.9"
  }
 },
 "nbformat": 4,
 "nbformat_minor": 2
}
